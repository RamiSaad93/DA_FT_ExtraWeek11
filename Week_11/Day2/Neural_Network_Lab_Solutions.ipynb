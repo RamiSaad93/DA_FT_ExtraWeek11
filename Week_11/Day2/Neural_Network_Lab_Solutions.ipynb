{
 "cells": [
  {
   "cell_type": "markdown",
   "id": "d988f8ad",
   "metadata": {},
   "source": [
    "# Hands-On Exercise: Training a Neural Network to Classify Fashion Items Using PyTorch and the Fashion-MNIST Dataset\n",
    "\n",
    "## Objective:\n",
    "In this exercise, you will train a neural network to classify images of clothing items from the Fashion-MNIST dataset using PyTorch. The goal is to learn how to preprocess data, build a neural network for image classification, train the model, and evaluate its performance.\n"
   ]
  },
  {
   "cell_type": "markdown",
   "id": "14ba5a75",
   "metadata": {},
   "source": [
    "## Prerequisites:\n",
    "- Basic understanding of Python and machine learning concepts.\n",
    "- Familiarity with deep learning and PyTorch.\n"
   ]
  },
  {
   "cell_type": "markdown",
   "id": "1bf43d14",
   "metadata": {},
   "source": [
    "## Step 1: Setup and Installations\n",
    "**Objective**: Ensure that PyTorch and other required libraries are installed.\n",
    "\n",
    "**Instructions**: Install the necessary libraries using pip if they are not already installed.\n"
   ]
  },
  {
   "cell_type": "code",
   "execution_count": 1,
   "id": "1f2c2268",
   "metadata": {},
   "outputs": [
    {
     "name": "stdout",
     "output_type": "stream",
     "text": [
      "Requirement already satisfied: torch in c:\\users\\ramya\\anaconda3\\lib\\site-packages (2.4.0)\n",
      "Requirement already satisfied: torchvision in c:\\users\\ramya\\anaconda3\\lib\\site-packages (0.19.0)\n",
      "Requirement already satisfied: matplotlib in c:\\users\\ramya\\anaconda3\\lib\\site-packages (3.5.2)\n",
      "Requirement already satisfied: typing-extensions>=4.8.0 in c:\\users\\ramya\\anaconda3\\lib\\site-packages (from torch) (4.12.2)\n",
      "Requirement already satisfied: sympy in c:\\users\\ramya\\anaconda3\\lib\\site-packages (from torch) (1.10.1)\n",
      "Requirement already satisfied: networkx in c:\\users\\ramya\\anaconda3\\lib\\site-packages (from torch) (2.8.4)\n",
      "Requirement already satisfied: fsspec in c:\\users\\ramya\\anaconda3\\lib\\site-packages (from torch) (2022.7.1)\n",
      "Requirement already satisfied: filelock in c:\\users\\ramya\\anaconda3\\lib\\site-packages (from torch) (3.6.0)\n",
      "Requirement already satisfied: jinja2 in c:\\users\\ramya\\anaconda3\\lib\\site-packages (from torch) (2.11.3)\n",
      "Requirement already satisfied: numpy<2 in c:\\users\\ramya\\anaconda3\\lib\\site-packages (from torchvision) (1.26.4)\n",
      "Requirement already satisfied: pillow!=8.3.*,>=5.3.0 in c:\\users\\ramya\\anaconda3\\lib\\site-packages (from torchvision) (9.2.0)\n",
      "Requirement already satisfied: packaging>=20.0 in c:\\users\\ramya\\anaconda3\\lib\\site-packages (from matplotlib) (21.3)\n",
      "Requirement already satisfied: cycler>=0.10 in c:\\users\\ramya\\anaconda3\\lib\\site-packages (from matplotlib) (0.11.0)\n",
      "Requirement already satisfied: fonttools>=4.22.0 in c:\\users\\ramya\\anaconda3\\lib\\site-packages (from matplotlib) (4.25.0)\n",
      "Requirement already satisfied: kiwisolver>=1.0.1 in c:\\users\\ramya\\anaconda3\\lib\\site-packages (from matplotlib) (1.4.2)\n",
      "Requirement already satisfied: pyparsing>=2.2.1 in c:\\users\\ramya\\anaconda3\\lib\\site-packages (from matplotlib) (3.0.9)\n",
      "Requirement already satisfied: python-dateutil>=2.7 in c:\\users\\ramya\\anaconda3\\lib\\site-packages (from matplotlib) (2.8.2)\n",
      "Requirement already satisfied: six>=1.5 in c:\\users\\ramya\\anaconda3\\lib\\site-packages (from python-dateutil>=2.7->matplotlib) (1.16.0)\n",
      "Requirement already satisfied: MarkupSafe>=0.23 in c:\\users\\ramya\\anaconda3\\lib\\site-packages (from jinja2->torch) (2.0.1)\n",
      "Requirement already satisfied: mpmath>=0.19 in c:\\users\\ramya\\anaconda3\\lib\\site-packages (from sympy->torch) (1.2.1)\n"
     ]
    },
    {
     "name": "stderr",
     "output_type": "stream",
     "text": [
      "WARNING: Ignoring invalid distribution -umpy (c:\\users\\ramya\\anaconda3\\lib\\site-packages)\n",
      "WARNING: Ignoring invalid distribution -umpy (c:\\users\\ramya\\anaconda3\\lib\\site-packages)\n",
      "WARNING: Ignoring invalid distribution -umpy (c:\\users\\ramya\\anaconda3\\lib\\site-packages)\n",
      "WARNING: Ignoring invalid distribution -umpy (c:\\users\\ramya\\anaconda3\\lib\\site-packages)\n",
      "WARNING: Ignoring invalid distribution -umpy (c:\\users\\ramya\\anaconda3\\lib\\site-packages)\n",
      "WARNING: Ignoring invalid distribution -umpy (c:\\users\\ramya\\anaconda3\\lib\\site-packages)\n"
     ]
    }
   ],
   "source": [
    "!pip install torch torchvision matplotlib\n"
   ]
  },
  {
   "cell_type": "markdown",
   "id": "18e374c2",
   "metadata": {},
   "source": [
    "## Step 2: Import Necessary Libraries\n",
    "**Objective**: Import the libraries needed for loading the dataset, building the model, training, and visualization.\n",
    "\n",
    "**Instructions**:\n"
   ]
  },
  {
   "cell_type": "code",
   "execution_count": 2,
   "id": "333266d6",
   "metadata": {},
   "outputs": [],
   "source": [
    "import torch\n",
    "import torch.nn as nn\n",
    "import torch.optim as optim\n",
    "import torch.nn.functional as F\n",
    "from torchvision import datasets, transforms\n",
    "import matplotlib.pyplot as plt\n"
   ]
  },
  {
   "cell_type": "markdown",
   "id": "d6f4a86e",
   "metadata": {},
   "source": [
    "## Step 3: Load and Explore the Fashion-MNIST Dataset\n",
    "**Objective**: Load the Fashion-MNIST dataset and explore its structure.\n",
    "\n",
    "**Instructions**:\n",
    "- Use `torchvision.datasets` to load the dataset.\n",
    "- Apply necessary transformations, such as converting images to tensors and normalizing them.\n"
   ]
  },
  {
   "cell_type": "code",
   "execution_count": 3,
   "id": "017e2023",
   "metadata": {},
   "outputs": [
    {
     "name": "stdout",
     "output_type": "stream",
     "text": [
      "Downloading http://fashion-mnist.s3-website.eu-central-1.amazonaws.com/train-images-idx3-ubyte.gz\n",
      "Downloading http://fashion-mnist.s3-website.eu-central-1.amazonaws.com/train-images-idx3-ubyte.gz to ./data\\FashionMNIST\\raw\\train-images-idx3-ubyte.gz\n"
     ]
    },
    {
     "name": "stderr",
     "output_type": "stream",
     "text": [
      "100%|██████████| 26421880/26421880 [00:02<00:00, 11871013.67it/s]\n"
     ]
    },
    {
     "name": "stdout",
     "output_type": "stream",
     "text": [
      "Extracting ./data\\FashionMNIST\\raw\\train-images-idx3-ubyte.gz to ./data\\FashionMNIST\\raw\n",
      "\n",
      "Downloading http://fashion-mnist.s3-website.eu-central-1.amazonaws.com/train-labels-idx1-ubyte.gz\n",
      "Downloading http://fashion-mnist.s3-website.eu-central-1.amazonaws.com/train-labels-idx1-ubyte.gz to ./data\\FashionMNIST\\raw\\train-labels-idx1-ubyte.gz\n"
     ]
    },
    {
     "name": "stderr",
     "output_type": "stream",
     "text": [
      "100%|██████████| 29515/29515 [00:00<00:00, 670818.63it/s]\n"
     ]
    },
    {
     "name": "stdout",
     "output_type": "stream",
     "text": [
      "Extracting ./data\\FashionMNIST\\raw\\train-labels-idx1-ubyte.gz to ./data\\FashionMNIST\\raw\n",
      "\n",
      "Downloading http://fashion-mnist.s3-website.eu-central-1.amazonaws.com/t10k-images-idx3-ubyte.gz\n",
      "Downloading http://fashion-mnist.s3-website.eu-central-1.amazonaws.com/t10k-images-idx3-ubyte.gz to ./data\\FashionMNIST\\raw\\t10k-images-idx3-ubyte.gz\n"
     ]
    },
    {
     "name": "stderr",
     "output_type": "stream",
     "text": [
      "100%|██████████| 4422102/4422102 [00:00<00:00, 6301005.61it/s]\n"
     ]
    },
    {
     "name": "stdout",
     "output_type": "stream",
     "text": [
      "Extracting ./data\\FashionMNIST\\raw\\t10k-images-idx3-ubyte.gz to ./data\\FashionMNIST\\raw\n",
      "\n",
      "Downloading http://fashion-mnist.s3-website.eu-central-1.amazonaws.com/t10k-labels-idx1-ubyte.gz\n",
      "Downloading http://fashion-mnist.s3-website.eu-central-1.amazonaws.com/t10k-labels-idx1-ubyte.gz to ./data\\FashionMNIST\\raw\\t10k-labels-idx1-ubyte.gz\n"
     ]
    },
    {
     "name": "stderr",
     "output_type": "stream",
     "text": [
      "100%|██████████| 5148/5148 [00:00<?, ?it/s]\n"
     ]
    },
    {
     "name": "stdout",
     "output_type": "stream",
     "text": [
      "Extracting ./data\\FashionMNIST\\raw\\t10k-labels-idx1-ubyte.gz to ./data\\FashionMNIST\\raw\n",
      "\n",
      "Number of training samples: 60000\n",
      "Number of test samples: 10000\n"
     ]
    },
    {
     "data": {
      "image/png": "[encoded data removed]",
      "text/plain": [
       "<Figure size 1000x1000 with 6 Axes>"
      ]
     },
     "metadata": {},
     "output_type": "display_data"
    }
   ],
   "source": [
    "transform = transforms.Compose([\n",
    "    transforms.ToTensor(),\n",
    "    transforms.Normalize((0.5,), (0.5,))\n",
    "])\n",
    "\n",
    "# Increase the batch size for faster training\n",
    "train_dataset = datasets.FashionMNIST(root='./data', train=True, download=True, transform=transform)\n",
    "test_dataset = datasets.FashionMNIST(root='./data', train=False, download=True, transform=transform)\n",
    "\n",
    "train_loader = torch.utils.data.DataLoader(train_dataset, batch_size=256, shuffle=True)\n",
    "test_loader = torch.utils.data.DataLoader(test_dataset, batch_size=1000, shuffle=False)\n",
    "\n",
    "# Explore the dataset\n",
    "print(f\"Number of training samples: {len(train_dataset)}\")\n",
    "print(f\"Number of test samples: {len(test_dataset)}\")\n",
    "\n",
    "# Visualize some training data\n",
    "examples = enumerate(train_loader)\n",
    "batch_idx, (example_data, example_targets) = next(examples)\n",
    "plt.figure(figsize=(10,10))\n",
    "for i in range(6):\n",
    "    plt.subplot(2,3,i+1)\n",
    "    plt.imshow(example_data[i][0], cmap='gray')\n",
    "    plt.title(f\"Label: {example_targets[i]}\")\n",
    "    plt.axis('off')\n",
    "plt.show()\n",
    "\n"
   ]
  },
  {
   "cell_type": "markdown",
   "id": "edb43fa7",
   "metadata": {},
   "source": [
    "## Step 4: Build the Neural Network\n",
    "**Objective**: Define a simple Convolutional Neural Network (CNN) for image classification.\n",
    "\n",
    "**Instructions**:\n",
    "- Use PyTorch’s `nn.Module` to create the model.\n",
    "- Include convolutional layers, pooling layers, and fully connected layers.\n"
   ]
  },
  {
   "cell_type": "code",
   "execution_count": 4,
   "id": "aba63503",
   "metadata": {},
   "outputs": [
    {
     "name": "stdout",
     "output_type": "stream",
     "text": [
      "FashionMNISTModel(\n",
      "  (conv1): Conv2d(1, 32, kernel_size=(3, 3), stride=(1, 1))\n",
      "  (conv2): Conv2d(32, 64, kernel_size=(3, 3), stride=(1, 1))\n",
      "  (fc1): Linear(in_features=1600, out_features=128, bias=True)\n",
      "  (fc2): Linear(in_features=128, out_features=10, bias=True)\n",
      ")\n"
     ]
    }
   ],
   "source": [
    "class FashionMNISTModel(nn.Module):\n",
    "    def __init__(self):\n",
    "        super(FashionMNISTModel, self).__init__()\n",
    "        self.conv1 = nn.Conv2d(1, 32, 3, 1)\n",
    "        self.conv2 = nn.Conv2d(32, 64, 3, 1)\n",
    "        self.fc1 = nn.Linear(64 * 5 * 5, 128)  # Adjust this according to the correct flattened size\n",
    "        self.fc2 = nn.Linear(128, 10)\n",
    "\n",
    "    def forward(self, x):\n",
    "        x = F.relu(self.conv1(x))\n",
    "        x = F.max_pool2d(x, 2)\n",
    "        x = F.relu(self.conv2(x))\n",
    "        x = F.max_pool2d(x, 2)\n",
    "        x = x.view(-1, 64 * 5 * 5)  # Dynamically compute the flattened size\n",
    "        x = F.relu(self.fc1(x))\n",
    "        x = self.fc2(x)\n",
    "        return F.log_softmax(x, dim=1)\n",
    "\n",
    "# Instantiate the model\n",
    "model = FashionMNISTModel()\n",
    "print(model)\n",
    "\n"
   ]
  },
  {
   "cell_type": "markdown",
   "id": "a0e0c50d",
   "metadata": {},
   "source": [
    "## Step 5: Define the Loss Function and Optimizer\n",
    "**Objective**: Set up the loss function and optimizer for training.\n",
    "\n",
    "**Instructions**:\n",
    "- Use Cross-Entropy Loss for multi-class classification.\n",
    "- Use an optimizer like Adam to update the model weights.\n"
   ]
  },
  {
   "cell_type": "code",
   "execution_count": 5,
   "id": "042b1d4f",
   "metadata": {},
   "outputs": [],
   "source": [
    "criterion = nn.CrossEntropyLoss()\n",
    "optimizer = optim.Adam(model.parameters(), lr=0.001)\n"
   ]
  },
  {
   "cell_type": "markdown",
   "id": "26319965",
   "metadata": {},
   "source": [
    "## Step 6: Train the Model\n",
    "**Objective**: Train the neural network on the training data.\n",
    "\n",
    "**Instructions**:\n",
    "- Iterate through the training data for a set number of epochs.\n",
    "- For each epoch, perform forward and backward passes, and update the model weights.\n"
   ]
  },
  {
   "cell_type": "code",
   "execution_count": 9,
   "id": "8f685184",
   "metadata": {},
   "outputs": [
    {
     "name": "stdout",
     "output_type": "stream",
     "text": [
      "Epoch 1/5, Loss: 0.2481\n",
      "Epoch 2/5, Loss: 0.2345\n",
      "Epoch 3/5, Loss: 0.2174\n",
      "Epoch 4/5, Loss: 0.2010\n",
      "Epoch 5/5, Loss: 0.1921\n"
     ]
    }
   ],
   "source": [
    "epochs = 5\n",
    "for epoch in range(epochs):\n",
    "    model.train()  # Set the model to training mode\n",
    "    running_loss = 0.0\n",
    "\n",
    "    for batch_idx, (data, target) in enumerate(train_loader):\n",
    "        # Zero the gradients\n",
    "        optimizer.zero_grad()\n",
    "\n",
    "        # Forward pass\n",
    "        output = model(data)\n",
    "        loss = criterion(output, target)\n",
    "\n",
    "        # Backward pass and optimization\n",
    "        loss.backward()\n",
    "        optimizer.step()\n",
    "\n",
    "        running_loss += loss.item()\n",
    "\n",
    "    print(f'Epoch {epoch+1}/{epochs}, Loss: {running_loss/len(train_loader):.4f}')\n"
   ]
  },
  {
   "cell_type": "markdown",
   "id": "74d54036",
   "metadata": {},
   "source": [
    "## Step 7: Evaluate the Model\n",
    "**Objective**: Evaluate the model's performance on the test dataset.\n",
    "\n",
    "**Instructions**:\n",
    "- After training, evaluate the model's accuracy on the test data.\n",
    "- Calculate the accuracy by comparing the predicted labels with the true labels.\n"
   ]
  },
  {
   "cell_type": "code",
   "execution_count": 7,
   "id": "9b681481",
   "metadata": {},
   "outputs": [
    {
     "name": "stdout",
     "output_type": "stream",
     "text": [
      "Accuracy on test set: 89.07%\n"
     ]
    }
   ],
   "source": [
    "model.eval()  # Set the model to evaluation mode\n",
    "correct = 0\n",
    "total = 0\n",
    "with torch.no_grad():\n",
    "    for data, target in test_loader:\n",
    "        output = model(data)\n",
    "        _, predicted = torch.max(output.data, 1)\n",
    "        total += target.size(0)\n",
    "        correct += (predicted == target).sum().item()\n",
    "\n",
    "print(f'Accuracy on test set: {100 * correct / total:.2f}%')\n"
   ]
  },
  {
   "cell_type": "markdown",
   "id": "0c1dd8c6",
   "metadata": {},
   "source": [
    "## Step 8: Visualize the Results\n",
    "**Objective**: Visualize some of the model's predictions on the test data.\n",
    "\n",
    "**Instructions**:\n",
    "- Show images from the test dataset along with their predicted labels.\n"
   ]
  },
  {
   "cell_type": "code",
   "execution_count": 8,
   "id": "68c76ddb",
   "metadata": {},
   "outputs": [
    {
     "data": {
      "image/png": "[encoded data removed]",
      "text/plain": [
       "<Figure size 1000x1000 with 6 Axes>"
      ]
     },
     "metadata": {},
     "output_type": "display_data"
    }
   ],
   "source": [
    "model.eval()\n",
    "with torch.no_grad():\n",
    "    data, target = next(iter(test_loader))\n",
    "    output = model(data)\n",
    "    _, preds = torch.max(output, 1)\n",
    "\n",
    "plt.figure(figsize=(10,10))\n",
    "for i in range(6):\n",
    "    plt.subplot(2,3,i+1)\n",
    "    plt.imshow(data[i][0], cmap='gray')\n",
    "    plt.title(f\"True: {target[i]}, Pred: {preds[i]}\")\n",
    "    plt.axis('off')\n",
    "plt.show()\n"
   ]
  },
  {
   "cell_type": "markdown",
   "id": "9b78ab43",
   "metadata": {},
   "source": [
    "## Step 9: Analyze the Results\n",
    "**Objective**: Understand the model's performance.\n",
    "\n",
    "**Instructions**:\n",
    "- Discuss how well the model performed in classifying the images.\n",
    "- Consider whether the model has underfitted or overfitted the data.\n",
    "- Discuss possible ways to improve the model, such as tuning hyperparameters, adding regularization, or using a more complex architecture.\n"
   ]
  },
  {
   "cell_type": "markdown",
   "id": "1497a551",
   "metadata": {},
   "source": [
    "## Step 10: Extend the Exercise\n",
    "**Objective**: Encourage further exploration.\n",
    "\n",
    "**Instructions**:\n",
    "- Experiment with different neural network architectures (e.g., more layers, dropout, batch normalization).\n",
    "- Try different learning rates or optimizers.\n",
    "- Use data augmentation to improve the model's robustness.\n"
   ]
  },
  {
   "cell_type": "markdown",
   "id": "c5dc7a5d",
   "metadata": {},
   "source": [
    "## Wrap-Up\n",
    "- **Reflection**: Discuss what you learned about training neural networks for image classification tasks, and the importance of choosing the right model architecture and hyperparameters.\n",
    "- **Submission**: Submit your completed notebook along with a short report on your findings.\n"
   ]
  },
  {
   "cell_type": "code",
   "execution_count": null,
   "id": "90fc588a",
   "metadata": {},
   "outputs": [],
   "source": []
  }
 ],
 "metadata": {
  "kernelspec": {
   "display_name": "Python 3 (ipykernel)",
   "language": "python",
   "name": "python3"
  },
  "language_info": {
   "codemirror_mode": {
    "name": "ipython",
    "version": 3
   },
   "file_extension": ".py",
   "mimetype": "text/x-python",
   "name": "python",
   "nbconvert_exporter": "python",
   "pygments_lexer": "ipython3",
   "version": "3.9.13"
  }
 },
 "nbformat": 4,
 "nbformat_minor": 5
}
